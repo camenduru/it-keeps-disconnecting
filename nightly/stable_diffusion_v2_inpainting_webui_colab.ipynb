{
  "cells": [
    {
      "cell_type": "markdown",
      "metadata": {
        "id": "view-in-github"
      },
      "source": [
        "[![Open In Colab](https://colab.research.google.com/assets/colab-badge.svg)](https://colab.research.google.com/github/camenduru/it-keeps-disconnecting/blob/main/nightly/stable_diffusion_v2_inpainting_webui_colab.ipynb)"
      ]
    },
    {
      "cell_type": "code",
      "execution_count": null,
      "metadata": {
        "id": "SaAJk33ppFw1"
      },
      "outputs": [],
      "source": [
        "%cd /content\n",
        "\n",
        "%env TF_CPP_MIN_LOG_LEVEL=1\n",
        "\n",
        "!apt -y update -qq\n",
        "!wget http://launchpadlibrarian.net/367274644/libgoogle-perftools-dev_2.5-2.2ubuntu3_amd64.deb\n",
        "!wget https://launchpad.net/ubuntu/+source/google-perftools/2.5-2.2ubuntu3/+build/14795286/+files/google-perftools_2.5-2.2ubuntu3_all.deb\n",
        "!wget https://launchpad.net/ubuntu/+source/google-perftools/2.5-2.2ubuntu3/+build/14795286/+files/libtcmalloc-minimal4_2.5-2.2ubuntu3_amd64.deb\n",
        "!wget https://launchpad.net/ubuntu/+source/google-perftools/2.5-2.2ubuntu3/+build/14795286/+files/libgoogle-perftools4_2.5-2.2ubuntu3_amd64.deb\n",
        "!apt install -qq libunwind8-dev\n",
        "!dpkg -i *.deb\n",
        "%env LD_PRELOAD=libtcmalloc.so\n",
        "!rm *.deb\n",
        "\n",
        "!apt -y install -qq aria2 libcairo2-dev pkg-config python3-dev\n",
        "!pip install -q xformers==0.0.20 triton==2.0.0 -U\n",
        "\n",
        "!git clone -b v2.4 https://github.com/camenduru/ui\n",
        "!git clone https://huggingface.co/embed/negative /content/ui/embeddings/negative\n",
        "!git clone https://huggingface.co/embed/lora /content/ui/models/Lora/positive\n",
        "!aria2c --console-log-level=error -c -x 16 -s 16 -k 1M https://huggingface.co/embed/upscale/resolve/main/4x-UltraSharp.pth -d /content/ui/models/ESRGAN -o 4x-UltraSharp.pth\n",
        "!wget https://raw.githubusercontent.com/camenduru/stable-diffusion-webui-scripts/main/run_n_times.py -O /content/ui/scripts/run_n_times.py\n",
        "!git clone https://github.com/deforum-art/deforum-for-automatic1111-webui /content/ui/extensions/deforum-for-automatic1111-webui\n",
        "!git clone https://github.com/AlUlkesh/stable-diffusion-webui-images-browser /content/ui/extensions/stable-diffusion-webui-images-browser\n",
        "!git clone https://github.com/camenduru/ui-huggingface /content/ui/extensions/stable-diffusion-webui-huggingface\n",
        "!git clone https://github.com/camenduru/sd-civitai-browser /content/ui/extensions/sd-civitai-browser\n",
        "!git clone https://github.com/kohya-ss/sd-webui-additional-networks /content/ui/extensions/sd-webui-additional-networks\n",
        "!git clone https://github.com/camenduru/tunnels /content/ui/extensions/tunnels\n",
        "%cd /content/ui\n",
        "!git reset --hard\n",
        "!git -C /content/ui/repositories/stable-diffusion-stability-ai reset --hard\n",
        "\n",
        "!aria2c --console-log-level=error -c -x 16 -s 16 -k 1M https://huggingface.co/ckpt/stable-diffusion-2-inpainting/resolve/main/512-inpainting-ema.ckpt -d /content/ui/models/Stable-diffusion -o 512-inpainting-ema.ckpt\n",
        "!aria2c --console-log-level=error -c -x 16 -s 16 -k 1M https://huggingface.co/ckpt/stable-diffusion-2-inpainting/raw/main/v2-inpainting-inference.yaml -d /content/ui/models/Stable-diffusion -o 512-inpainting-ema.yaml\n",
        "\n",
        "!sed -i -e '''/from modules import launch_utils/a\\import os''' /content/ui/launch.py\n",
        "!sed -i -e '''/        prepare_environment()/a\\        os.system\\(f\\\"\"\"sed -i -e ''\\\"s/dict()))/dict())).cuda()/g\\\"'' /content/ui/repositories/stable-diffusion-stability-ai/ldm/util.py\"\"\")''' /content/ui/launch.py\n",
        "!sed -i -e 's/\\[\"sd_model_checkpoint\"\\]/\\[\"sd_model_checkpoint\",\"sd_vae\",\"CLIP_stop_at_last_layers\"\\]/g' /content/ui/modules/shared.py\n",
        "\n",
        "!python launch.py --listen --xformers --enable-insecure-extension-access --theme dark --gradio-queue --multiple"
      ]
    }
  ],
  "metadata": {
    "accelerator": "GPU",
    "colab": {
      "private_outputs": true,
      "provenance": []
    },
    "gpuClass": "standard",
    "kernelspec": {
      "display_name": "Python 3",
      "name": "python3"
    },
    "language_info": {
      "name": "python"
    }
  },
  "nbformat": 4,
  "nbformat_minor": 0
}
