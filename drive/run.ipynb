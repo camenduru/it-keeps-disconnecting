{
  "cells": [
    {
      "cell_type": "markdown",
      "metadata": {
        "id": "view-in-github"
      },
      "source": [
        "[![Open In Colab](https://colab.research.google.com/assets/colab-badge.svg)](https://colab.research.google.com/github/camenduru/it-keeps-disconnecting/blob/main/drive/run.ipynb)"
      ]
    },
    {
      "cell_type": "code",
      "execution_count": null,
      "metadata": {
        "id": "SaAJk33ppFw1"
      },
      "outputs": [],
      "source": [
        "%cd /content\n",
        "from google.colab import drive\n",
        "drive.mount('/content/drive')\n",
        "import os\n",
        "\n",
        "%env PYTHONDONTWRITEBYTECODE=1\n",
        "%env TF_CPP_MIN_LOG_LEVEL=1\n",
        "!apt -y update -qq\n",
        "!wget https://github.com/camenduru/gperftools/releases/download/v1.0/libtcmalloc_minimal.so.4 -O /content/libtcmalloc_minimal.so.4\n",
        "%env LD_PRELOAD=/content/libtcmalloc_minimal.so.4\n",
        "\n",
        "!apt -y install -qq aria2 libcairo2-dev pkg-config python3-dev\n",
        "!pip install -q xformers==0.0.20 triton==2.0.0 -U\n",
        "\n",
        "%cd /content/drive/MyDrive/ui-colab/ui\n",
        "\n",
        "!git reset --hard\n",
        "!git -C /content/drive/MyDrive/ui-colab/ui/repositories/stable-diffusion-stability-ai reset --hard\n",
        "!git -C /content/drive/MyDrive/ui-colab/ui/extensions/deforum reset --hard\n",
        "\n",
        "!sed -i -e '''/from modules import launch_utils/a\\import os''' /content/drive/MyDrive/ui-colab/ui/launch.py\n",
        "!sed -i -e '''/        prepare_environment()/a\\        os.system\\(f\\\"\"\"sed -i -e ''\\\"s/dict()))/dict())).cuda()/g\\\"'' /content/drive/MyDrive/ui-colab/ui/repositories/stable-diffusion-stability-ai/ldm/util.py\"\"\")''' /content/drive/MyDrive/ui-colab/ui/launch.py\n",
        "!sed -i -e 's/checkout {commithash}/checkout --force {commithash}/g' /content/drive/MyDrive/ui-colab/ui/modules/launch_utils.py\n",
        "!sed -i -e 's/sd-webui-controlnet\\.scripts/control\\.scripts/g' /content/drive/MyDrive/ui-colab/ui/extensions/deforum/scripts/deforum_helpers/deforum_controlnet.py\n",
        "\n",
        "# Sunday August 20, 2023 - We have a new update. Please use the \"One Time Install & Update\" Colab.\n",
        "!python launch.py --listen --xformers --enable-insecure-extension-access --theme dark --share"
      ]
    }
  ],
  "metadata": {
    "accelerator": "GPU",
    "colab": {
      "collapsed_sections": [],
      "private_outputs": true,
      "provenance": []
    },
    "gpuClass": "standard",
    "kernelspec": {
      "display_name": "Python 3",
      "name": "python3"
    },
    "language_info": {
      "name": "python"
    }
  },
  "nbformat": 4,
  "nbformat_minor": 0
}
